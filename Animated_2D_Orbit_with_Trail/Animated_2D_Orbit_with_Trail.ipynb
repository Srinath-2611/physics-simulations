{
  "cells": [
    {
      "cell_type": "code",
      "execution_count": null,
      "metadata": {
        "colab": {
          "background_save": true,
          "base_uri": "https://localhost:8080/"
        },
        "id": "eZeY96iomzGE",
        "outputId": "991d26c6-7ef2-4f77-dd1a-e8255d9e3f77"
      },
      "outputs": [
        {
          "output_type": "stream",
          "name": "stderr",
          "text": [
            "WARNING:matplotlib.animation:Animation size has reached 104885163 bytes, exceeding the limit of 104857600.0. If you're sure you want a larger animation embedded, set the animation.embed_limit rc parameter to a larger value (in MB). This and further frames will be dropped.\n"
          ]
        }
      ],
      "source": [
        "import numpy as np\n",
        "import matplotlib.pyplot as plt\n",
        "import matplotlib.animation as animation\n",
        "from IPython.display import HTML\n",
        "\n",
        "# Constants\n",
        "G = 6.67430e-11\n",
        "M = 1.989e30\n",
        "dt = 3600\n",
        "num_steps = 5000  # Reduce for faster render\n",
        "\n",
        "# Initial values\n",
        "x = [1.496e11]\n",
        "y = [0]\n",
        "vx = [0]\n",
        "vy = [29780]\n",
        "\n",
        "# Simulate orbit\n",
        "for i in range(num_steps):\n",
        "    r = np.sqrt(x[-1]**2 + y[-1]**2)\n",
        "    ax = -G * M * x[-1] / r**3\n",
        "    ay = -G * M * y[-1] / r**3\n",
        "    vx.append(vx[-1] + ax * dt)\n",
        "    vy.append(vy[-1] + ay * dt)\n",
        "    x.append(x[-1] + vx[-1] * dt)\n",
        "    y.append(y[-1] + vy[-1] * dt)\n",
        "\n",
        "x = np.array(x)\n",
        "y = np.array(y)\n",
        "\n",
        "# Set up figure\n",
        "fig, ax = plt.subplots(figsize=(6,6))\n",
        "ax.set_xlim(-2e11, 2e11)\n",
        "ax.set_ylim(-2e11, 2e11)\n",
        "ax.set_aspect('equal')\n",
        "ax.set_title(\"Animated Planetary Orbit with Trail\")\n",
        "ax.set_xlabel(\"x (m)\")\n",
        "ax.set_ylabel(\"y (m)\")\n",
        "ax.grid(True)\n",
        "\n",
        "# Sun\n",
        "ax.plot(0, 0, 'yo', markersize=12, label=\"Sun\")\n",
        "\n",
        "# Planet and trail\n",
        "planet_dot, = ax.plot([], [], 'bo', label=\"Planet\")\n",
        "trail_line, = ax.plot([], [], 'b-', linewidth=1.5, alpha=0.7, label=\"Trail\")\n",
        "ax.legend()\n",
        "\n",
        "def init():\n",
        "    planet_dot.set_data([], [])\n",
        "    trail_line.set_data([], [])\n",
        "    return planet_dot, trail_line\n",
        "\n",
        "def update(i):\n",
        "    planet_dot.set_data([x[i]], [y[i]])       # <- fixed\n",
        "    trail_line.set_data(x[:i+1], y[:i+1])\n",
        "    return planet_dot, trail_line\n",
        "\n",
        "import matplotlib as mpl\n",
        "mpl.rcParams['animation.embed_limit'] = 100  # MB\n",
        "\n",
        "# Create animation\n",
        "anim = animation.FuncAnimation(fig, update, init_func=init, frames=len(x),\n",
        "                               interval=10, blit=True)\n",
        "\n",
        "# Display in Colab\n",
        "HTML(anim.to_jshtml())\n"
      ]
    }
  ],
  "metadata": {
    "colab": {
      "provenance": []
    },
    "kernelspec": {
      "display_name": "Python 3",
      "name": "python3"
    },
    "language_info": {
      "name": "python"
    }
  },
  "nbformat": 4,
  "nbformat_minor": 0
}