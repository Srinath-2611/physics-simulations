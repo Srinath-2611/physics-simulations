{
  "nbformat": 4,
  "nbformat_minor": 0,
  "metadata": {
    "colab": {
      "provenance": []
    },
    "kernelspec": {
      "name": "python3",
      "display_name": "Python 3"
    },
    "language_info": {
      "name": "python"
    }
  },
  "cells": [
    {
      "cell_type": "code",
      "execution_count": null,
      "metadata": {
        "id": "p762U7fiU6TF"
      },
      "outputs": [],
      "source": [
        "import numpy as np\n",
        "import matplotlib.pyplot as plt\n",
        "import matplotlib.animation as animation\n",
        "from IPython.display import HTML\n",
        "\n",
        "# Timeline (in billions of years)\n",
        "t = np.linspace(0.001, 30, 1000)\n",
        "\n",
        "# Scale factor model (simplified)\n",
        "def scale_factor(t):\n",
        "    a = np.zeros_like(t)\n",
        "    for i, ti in enumerate(t):\n",
        "        if ti < 0.06:\n",
        "            a[i] = (ti / 0.06)**0.5 * 1e-4  # radiation era\n",
        "        elif ti < 9:\n",
        "            a[i] = (ti / 9)**(2/3)          # matter era\n",
        "        else:\n",
        "            a[i] = (np.exp((ti - 9)/6)) / np.exp((30 - 9)/6)  # dark energy\n",
        "    return a\n",
        "\n",
        "a_t = scale_factor(t)\n",
        "\n",
        "# Set up figure\n",
        "fig, ax = plt.subplots(figsize=(8, 5))\n",
        "ax.set_xlim(0, 30)\n",
        "ax.set_ylim(0, 1.1)\n",
        "ax.set_xlabel(\"Time (billion years)\", fontsize=12)\n",
        "ax.set_ylabel(\"Scale Factor a(t)\", fontsize=12)\n",
        "ax.set_title(\"Cosmic Scale Factor Over Time\", fontsize=14)\n",
        "\n",
        "line, = ax.plot([], [], color='blue', label='a(t)')\n",
        "dot, = ax.plot([], [], 'ro', label='Current Time')\n",
        "\n",
        "# Milestone annotations\n",
        "milestones = {\n",
        "    \"CMB (~0.00038 Gyr)\": 0.00038,\n",
        "    \"Reionization (~0.5 Gyr)\": 0.5,\n",
        "    \"Now (13.8 Gyr)\":13.8\n",
        "}\n",
        "\n",
        "for label, x in milestones.items():\n",
        "    ax.axvline(x, color='gray', linestyle='--', alpha=0.4)\n",
        "    ax.text(x, 0.05, label, rotation=90, va='bottom', ha='right', fontsize=8)\n",
        "\n",
        "ax.legend()\n",
        "\n",
        "# Update function\n",
        "def update(frame):\n",
        "    x = t[:frame]\n",
        "    y = a_t[:frame]\n",
        "    line.set_data(x, y)\n",
        "    if len(x) > 0:\n",
        "        dot.set_data([x[-1]], [y[-1]])  # WRAP as list\n",
        "    return line, dot\n",
        "\n",
        "# Animate\n",
        "ani = animation.FuncAnimation(fig, update, frames=range(1, len(t)), interval=20, blit=True)\n",
        "plt.close()\n",
        "HTML(ani.to_jshtml())\n"
      ]
    }
  ]
}